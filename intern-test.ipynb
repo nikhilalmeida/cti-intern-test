{
 "cells": [
  {
   "cell_type": "markdown",
   "metadata": {},
   "source": [
    "# Demand Media Data Science Intern test.\n",
    "To begin please clone this repository and run the notebook.\n",
    "Checkout [this resource](https://try.github.io/levels/1/challenges/1) for help with git. And similarly for a rundown on [Jupyter.](https://jupyter-notebook-beginner-guide.readthedocs.io/en/latest/)"
   ]
  },
  {
   "cell_type": "markdown",
   "metadata": {},
   "source": [
    "## Data Tools"
   ]
  },
  {
   "cell_type": "markdown",
   "metadata": {},
   "source": [
    "#### Question 1: Convert CSV to JSON\n",
    "List some of the tools you would use to convert a csv file to json. Please list all the different approaches you can think of, for solving a data transformation problem like this."
   ]
  },
  {
   "cell_type": "markdown",
   "metadata": {},
   "source": [
    "#### Answer 1:\n",
    "\n",
    "I am unfamiliar with the JSON file type, though I am familiar with CSV files.\n",
    "\n",
    "Because Python has a built-in CSV reader, I wouldn't be surprised if there is already a way to convert it to a JSON file in Python or if someone else has already created a Python converter."
   ]
  },
  {
   "cell_type": "markdown",
   "metadata": {},
   "source": [
    "## SQL\n",
    "Using the database schema below, answer the following questions.\n",
    "\n",
    "\n",
    "|movie   |actor |casting|\n",
    "|--------|------|-------|\n",
    "|id      |id    |movieid|\n",
    "|title   |name  |actorid|\n",
    "|yr      |      |ord    |\n",
    "|director|      |       | \n",
    "|budget  |      |       |\n",
    "|gross   |      |       |\n",
    "\n",
    "\n",
    "\n",
    "\n"
   ]
  },
  {
   "cell_type": "markdown",
   "metadata": {},
   "source": [
    "#### Question 2:\n",
    "Find the actors in the movie \"Gone with the Wind\""
   ]
  },
  {
   "cell_type": "markdown",
   "metadata": {
    "collapsed": true
   },
   "source": [
    "#### Answer 2:\n",
    "\n",
    "For this answer, I am going to assume we want the names and not the IDs from the table.\n",
    "\n",
    "select actor.name\n",
    "from actor\n",
    "join casting on actor.id=casting.actorid\n",
    "join movie on casting.movieid=movie.id\n",
    "where movie.title='Gone with the Wind'"
   ]
  },
  {
   "cell_type": "markdown",
   "metadata": {},
   "source": [
    "#### Question 3:\n",
    "List the films together with the leading star for all 1962 films."
   ]
  },
  {
   "cell_type": "markdown",
   "metadata": {},
   "source": [
    "#### Answer 3:\n",
    "\n",
    "select movie.title, actor.name\n",
    "from movie\n",
    "join casting on movie.id=casting.movieid\n",
    "join actor on casting.actorid=actor.id\n",
    "where movie.yr=1962 and casting.ord=1"
   ]
  },
  {
   "cell_type": "markdown",
   "metadata": {},
   "source": [
    "## Data Science Questions"
   ]
  },
  {
   "cell_type": "markdown",
   "metadata": {},
   "source": [
    "#### Question 4:\n",
    "Explain the curse of Dimensionality to a child?"
   ]
  },
  {
   "cell_type": "markdown",
   "metadata": {},
   "source": [
    "#### Answer 4: \n",
    "\n",
    "Okay, kids, listen up! I'm going to explain to you something that I see a lot of.\n",
    "\n",
    "You all like puppies, right? But how can you figure out what your favorite puppy of all time is? If you had to choose just one, it might take you awhile right? You would have to figure out a lot of things, including:\n",
    "\n",
    "1) boy or girl puppy?\n",
    "2) How big is this puppy? Is it the size of your hand? Your head? Yourself?\n",
    "3) What color is it? Is it one solid color? Is it brown and black? Does it have spots?\n",
    "\n",
    "There are a lot of things that make a puppy...and finding the exact right puppy will take a long time. \n",
    "\n",
    "And that's what adults call the \"curse of Dimensionality!\" There are a lot of things that we can look at to help figure out what kind of puppy we want. A lot of times, we just narrow it down our favorite things: is it fluffy, is it kind, does it like to play?\n",
    "\n",
    "Another way of explaining it is:\n",
    "Imagine your favorite toy is against the wall in your room and you are holding the wall but have your eyes closed. If you keep walking along the wall, you will find your toy. It won't take very long.\n",
    "Now imagine the toy is somewhere on the ground in your room and you can move anywhere in there. Your eyes are still closed. It will take you longer to find this toy, but you will probably find it.\n",
    "Now imagine the toy is floating somewhere in your room. You are still closing your eyes. How long will it take to find your favorite toy now?\n",
    "\n",
    "The more dimensions we have, the longer it might take to find something you are looking for."
   ]
  },
  {
   "cell_type": "markdown",
   "metadata": {},
   "source": [
    "#### Question 5:\n",
    "Why is mean square error a bad measure of model performance? What would you suggest instead?"
   ]
  },
  {
   "cell_type": "markdown",
   "metadata": {},
   "source": [
    "#### Answer 5: \n",
    "\n",
    "Mean square error is a good measure when we have data that we expect to be linear. It can be a bad measure if we were creating a model for a classification problem (e.g. if we wanted to predict the sex of a baby before it is born and we don't have any medical tools to look inside).\n",
    "\n",
    "For every model, there is an appropriate measure for performance. Like I stated before, mean square error is good when we have linear models or something that could be linear. Otherwise, we might consider something else. Maybe a weighted average which takes into account positive and negative errors would work slightly better. But again, it depends on the model."
   ]
  },
  {
   "cell_type": "markdown",
   "metadata": {},
   "source": [
    "#### Question 6:\n",
    "Do you think 50 small decision trees are better than a large one? Why?"
   ]
  },
  {
   "cell_type": "markdown",
   "metadata": {},
   "source": [
    "#### Answer 6: \n",
    "\n",
    "It would obviously depend on the context, but based on my knowledge, I would assume a large decision tree would be quite prone to overfitting. We usually want to strike a balance between over and underfitting and my guess is that 50 smaller decision trees would not overfit as much. Again, depending on the problem, a large decision tree might be exactly the right thing.\n",
    "\n",
    "My guess is that a large decision tree would overfit the problem and the 50 small decision trees would underfit the problem but generalize to predicting better."
   ]
  },
  {
   "cell_type": "markdown",
   "metadata": {},
   "source": [
    "#### Question 7:\n",
    "How would you explain an A/B test to an engineer with no statistics background?"
   ]
  },
  {
   "cell_type": "markdown",
   "metadata": {},
   "source": [
    "#### Answer 7: \n",
    "\n",
    "An A/B test is a way to figure out how something can change an outcome.\n",
    "\n",
    "Let's say a company's online shop wants to see how effective their product descriptions are.\n",
    "They find two groups of equal size, called Group A and Group B, who are interested in buying this product but are still unsure. These groups are chosen randomly from people who are interested.\n",
    "The company sends them to the online shop and Group A has the new product description and group B has the old product description.\n",
    "The company wants to measure effectiveness of the descriptions on how many people buy the product.\n",
    "This is an example of an A/B test."
   ]
  },
  {
   "cell_type": "markdown",
   "metadata": {},
   "source": [
    "## Python"
   ]
  },
  {
   "cell_type": "markdown",
   "metadata": {},
   "source": [
    "#### Question 8:\n",
    "Find the mean, median and mode of the elements in the list.\n",
    "```python\n",
    "a = [10,15,3,4,67,43,12]\n",
    "```"
   ]
  },
  {
   "cell_type": "markdown",
   "metadata": {},
   "source": [
    "#### Answer 8:\n",
    "\n",
    "````python\n",
    "import numpy as np\n",
    "from scipy import stats\n",
    "\n",
    "print np.mean(a)\n",
    "print np.median(a)\n",
    "print stats.mode(a)\n",
    "````"
   ]
  },
  {
   "cell_type": "markdown",
   "metadata": {},
   "source": [
    "#### Question 9:\n",
    "What will be the output of the code below? Please explain your answer.\n",
    "```python\n",
    "def multipliers():\n",
    "  return [lambda x : i * x for i in range(4)]\n",
    "    \n",
    "print [m(2) for m in multipliers()]\n",
    "```\n",
    "How would you modify the definition of `multipliers` to produce the presumably desired behavior?"
   ]
  },
  {
   "cell_type": "markdown",
   "metadata": {},
   "source": [
    "#### Answer 9:\n",
    "\n",
    "The output of the code will be\n",
    "\n",
    "[6,6,6,6]\n",
    "\n",
    "I assume that the desired output should have been\n",
    "\n",
    "[0,2,4,6]\n",
    "\n",
    "the multiples of 2 when multiplied by range(4) = [0,1,2,3]\n",
    "\n",
    "One change that could make is turning the start of the code to\n",
    "\n",
    "```python\n",
    "import numpy as np\n",
    "def multipliers():\n",
    "  return [lambda x : np.multiply(range(4),x)]\n",
    "```\n",
    "\n",
    "Also, changing the code to\n",
    "\n",
    "```python\n",
    "def multipliers():\n",
    "  return (lambda x : i * x for i in range(4))\n",
    "```\n",
    "works."
   ]
  }
 ],
 "metadata": {
  "kernelspec": {
   "display_name": "Python 2",
   "language": "python",
   "name": "python2"
  },
  "language_info": {
   "codemirror_mode": {
    "name": "ipython",
    "version": 2
   },
   "file_extension": ".py",
   "mimetype": "text/x-python",
   "name": "python",
   "nbconvert_exporter": "python",
   "pygments_lexer": "ipython2",
   "version": "2.7.11"
  }
 },
 "nbformat": 4,
 "nbformat_minor": 0
}
